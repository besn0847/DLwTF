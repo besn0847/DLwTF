{
 "cells": [
  {
   "cell_type": "code",
   "execution_count": 1,
   "metadata": {},
   "outputs": [],
   "source": [
    "import tensorflow as tf\n",
    "import numpy as np\n",
    "from sklearn.datasets import fetch_california_housing\n",
    "from sklearn.preprocessing import StandardScaler"
   ]
  },
  {
   "cell_type": "code",
   "execution_count": 2,
   "metadata": {},
   "outputs": [],
   "source": [
    "housing = fetch_california_housing()\n",
    "m, n = housing.data.shape"
   ]
  },
  {
   "cell_type": "code",
   "execution_count": 3,
   "metadata": {},
   "outputs": [],
   "source": [
    "scaler = StandardScaler()\n",
    "scaled_housing_data = scaler.fit_transform(housing.data)\n",
    "scaled_housing_data_plus_bias = np.c_[np.ones((m, 1)), scaled_housing_data]"
   ]
  },
  {
   "cell_type": "code",
   "execution_count": 4,
   "metadata": {},
   "outputs": [],
   "source": [
    "X = tf.constant(scaled_housing_data_plus_bias, dtype = tf.float32, name=\"X\")\n",
    "y = tf.constant(housing.target.reshape(-1,1), dtype = tf.float32, name=\"y\")"
   ]
  },
  {
   "cell_type": "code",
   "execution_count": 5,
   "metadata": {},
   "outputs": [],
   "source": [
    "n_epochs = 1000\n",
    "learning_rate = 0.01"
   ]
  },
  {
   "cell_type": "code",
   "execution_count": 6,
   "metadata": {},
   "outputs": [
    {
     "name": "stdout",
     "output_type": "stream",
     "text": [
      "WARNING:tensorflow:From /home/franck/.local/lib/python3.6/site-packages/tensorflow/python/framework/op_def_library.py:263: colocate_with (from tensorflow.python.framework.ops) is deprecated and will be removed in a future version.\n",
      "Instructions for updating:\n",
      "Colocations handled automatically by placer.\n"
     ]
    }
   ],
   "source": [
    "theta = tf.Variable(tf.random_uniform([n+1, 1], -1.0, 1.0), name=\"theta\")\n",
    "y_pred = tf.matmul(X, theta, name = \"predictions\")\n",
    "error = y_pred - y"
   ]
  },
  {
   "cell_type": "code",
   "execution_count": 7,
   "metadata": {},
   "outputs": [],
   "source": [
    "mse = tf.reduce_mean(tf.square(error), name = \"mse\")\n",
    "gradients = 2 / m * tf.matmul(tf.transpose(X), error)\n",
    "training_op = tf.assign(theta, theta - learning_rate * gradients)"
   ]
  },
  {
   "cell_type": "code",
   "execution_count": 8,
   "metadata": {},
   "outputs": [],
   "source": [
    "init =tf.global_variables_initializer()"
   ]
  },
  {
   "cell_type": "code",
   "execution_count": 10,
   "metadata": {},
   "outputs": [
    {
     "name": "stdout",
     "output_type": "stream",
     "text": [
      "Bootstrap : MSE =  4.973897\n",
      "Epoch: 0 MSE =  4.973897\n",
      "Epoch: 100 MSE =  0.7398201\n",
      "Epoch: 200 MSE =  0.64703345\n",
      "Epoch: 300 MSE =  0.6229071\n",
      "Epoch: 400 MSE =  0.60449713\n",
      "Epoch: 500 MSE =  0.58972\n",
      "Epoch: 600 MSE =  0.5777997\n",
      "Epoch: 700 MSE =  0.5681499\n",
      "Epoch: 800 MSE =  0.56031334\n",
      "Epoch: 900 MSE =  0.55393064\n"
     ]
    }
   ],
   "source": [
    "with tf.Session() as sess:\n",
    "    sess.run(init)\n",
    "    \n",
    "    print(\"Bootstrap : MSE = \", mse.eval())\n",
    "    \n",
    "    for epoch in range(n_epochs):\n",
    "        if epoch % 100 == 0: \n",
    "            print(\"Epoch:\", epoch,\"MSE = \", mse.eval())\n",
    "        # print(\"Epoch:\", epoch,\"MSE = \", mse.eval())\n",
    "        sess.run(training_op)\n",
    "    \n",
    "    best_theta = theta.eval()"
   ]
  },
  {
   "cell_type": "code",
   "execution_count": 11,
   "metadata": {},
   "outputs": [
    {
     "data": {
      "text/plain": [
       "array([[ 2.0685523 ],\n",
       "       [ 0.9753776 ],\n",
       "       [ 0.16228339],\n",
       "       [-0.5106087 ],\n",
       "       [ 0.4950297 ],\n",
       "       [ 0.00944111],\n",
       "       [-0.04611655],\n",
       "       [-0.44567817],\n",
       "       [-0.431832  ]], dtype=float32)"
      ]
     },
     "execution_count": 11,
     "metadata": {},
     "output_type": "execute_result"
    }
   ],
   "source": [
    "best_theta"
   ]
  },
  {
   "cell_type": "code",
   "execution_count": 12,
   "metadata": {},
   "outputs": [],
   "source": [
    "optimizer = tf.train.GradientDescentOptimizer(learning_rate=learning_rate)\n",
    "training_op = optimizer.minimize(mse)"
   ]
  },
  {
   "cell_type": "code",
   "execution_count": 13,
   "metadata": {},
   "outputs": [],
   "source": [
    "init =tf.global_variables_initializer()"
   ]
  },
  {
   "cell_type": "code",
   "execution_count": 14,
   "metadata": {},
   "outputs": [
    {
     "name": "stdout",
     "output_type": "stream",
     "text": [
      "Bootstrap : MSE =  11.455149\n",
      "Epoch: 0 MSE =  11.455149\n",
      "Epoch: 100 MSE =  0.845681\n",
      "Epoch: 200 MSE =  0.6368442\n",
      "Epoch: 300 MSE =  0.60824645\n",
      "Epoch: 400 MSE =  0.5889885\n",
      "Epoch: 500 MSE =  0.574445\n",
      "Epoch: 600 MSE =  0.5633755\n",
      "Epoch: 700 MSE =  0.5549074\n",
      "Epoch: 800 MSE =  0.5483964\n",
      "Epoch: 900 MSE =  0.5433643\n"
     ]
    }
   ],
   "source": [
    "with tf.Session() as sess:\n",
    "    sess.run(init)\n",
    "    \n",
    "    print(\"Bootstrap : MSE = \", mse.eval())\n",
    "    \n",
    "    for epoch in range(n_epochs):\n",
    "        if epoch % 100 == 0: \n",
    "            print(\"Epoch:\", epoch,\"MSE = \", mse.eval())\n",
    "        # print(\"Epoch:\", epoch,\"MSE = \", mse.eval())\n",
    "        sess.run(training_op)\n",
    "    \n",
    "    best_theta = theta.eval()"
   ]
  },
  {
   "cell_type": "code",
   "execution_count": 15,
   "metadata": {},
   "outputs": [],
   "source": [
    "optimizer = tf.train.MomentumOptimizer(learning_rate=learning_rate, momentum=0.9)"
   ]
  },
  {
   "cell_type": "code",
   "execution_count": 16,
   "metadata": {},
   "outputs": [],
   "source": [
    "init =tf.global_variables_initializer()"
   ]
  },
  {
   "cell_type": "code",
   "execution_count": 17,
   "metadata": {},
   "outputs": [
    {
     "name": "stdout",
     "output_type": "stream",
     "text": [
      "Bootstrap : MSE =  11.7158575\n",
      "Epoch: 0 MSE =  11.7158575\n",
      "Epoch: 100 MSE =  0.7328623\n",
      "Epoch: 200 MSE =  0.5728445\n",
      "Epoch: 300 MSE =  0.55981433\n",
      "Epoch: 400 MSE =  0.5517228\n",
      "Epoch: 500 MSE =  0.5456107\n",
      "Epoch: 600 MSE =  0.5409483\n",
      "Epoch: 700 MSE =  0.53737336\n",
      "Epoch: 800 MSE =  0.53461814\n",
      "Epoch: 900 MSE =  0.5324836\n"
     ]
    }
   ],
   "source": [
    "with tf.Session() as sess:\n",
    "    sess.run(init)\n",
    "    \n",
    "    print(\"Bootstrap : MSE = \", mse.eval())\n",
    "    \n",
    "    for epoch in range(n_epochs):\n",
    "        if epoch % 100 == 0: \n",
    "            print(\"Epoch:\", epoch,\"MSE = \", mse.eval())\n",
    "        # print(\"Epoch:\", epoch,\"MSE = \", mse.eval())\n",
    "        sess.run(training_op)\n",
    "    \n",
    "    best_theta = theta.eval()"
   ]
  },
  {
   "cell_type": "code",
   "execution_count": null,
   "metadata": {},
   "outputs": [],
   "source": []
  }
 ],
 "metadata": {
  "kernelspec": {
   "display_name": "Python 3",
   "language": "python",
   "name": "python3"
  },
  "language_info": {
   "codemirror_mode": {
    "name": "ipython",
    "version": 3
   },
   "file_extension": ".py",
   "mimetype": "text/x-python",
   "name": "python",
   "nbconvert_exporter": "python",
   "pygments_lexer": "ipython3",
   "version": "3.6.7"
  }
 },
 "nbformat": 4,
 "nbformat_minor": 2
}
